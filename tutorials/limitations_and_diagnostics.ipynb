{
 "cells": [
  {
   "cell_type": "markdown",
   "metadata": {},
   "source": [
    "**Note:** This notebook illustrates the limitations of `qrml` with possible diagnostics, however for further details, please refer to the source code or the paper [[1]](#1)."
   ]
  },
  {
   "cell_type": "code",
   "execution_count": 1,
   "metadata": {},
   "outputs": [],
   "source": [
    "import qrml\n",
    "import numpy        as np\n",
    "import matplotlib.pyplot as plt\n",
    "import tadasets\n",
    "\n",
    "%matplotlib qt"
   ]
  },
  {
   "cell_type": "markdown",
   "metadata": {},
   "source": [
    "### Limitations\n",
    "\n",
    "The case of the torus illustrates the main limitations of using `qrml` to identify the quotient contruction of pointcloud surfaces. "
   ]
  },
  {
   "cell_type": "code",
   "execution_count": 2,
   "metadata": {},
   "outputs": [
    {
     "name": "stdout",
     "output_type": "stream",
     "text": [
      "Restricted license - for non-production use only - expires 2023-10-25\n"
     ]
    }
   ],
   "source": [
    "torus = np.loadtxt('../datasets/torus.txt')  # 1000 points\n",
    "params = {'S1':0.2, 'k':10, 'threshold_var':0.05, 'edge_sen':1, 'k0':100}\n",
    "\n",
    "S_torus = qrml.Simplex()\n",
    "S_torus.build_simplex(torus, **params)\n",
    "S_torus.normal_coords(**params)"
   ]
  },
  {
   "cell_type": "markdown",
   "metadata": {},
   "source": [
    "##### Incorrect Boundary\n",
    "\n",
    "We note that the torus (and more complex surfaces) are contructed with more than a single 1-cycle in the quotient - e.g. in the canonical contruction of the torus, the boundary of the square is identified with a bouquet of two circles. Our quotient algorithm relies on the \"naive\" projection algorithm in [[2]](#2) being able to assign all the gluing/short-circuit points, which canonically form the quotient, to the boundary of the projection."
   ]
  },
  {
   "cell_type": "code",
   "execution_count": 3,
   "metadata": {},
   "outputs": [],
   "source": [
    "S_torus.show_boundary(alpha=1, tol=2, c=torus[:, 0], show_tear_points=True, a=2.5, show_connections=True, show_pointcloud=True, connection_tol=5, **params)"
   ]
  },
  {
   "cell_type": "markdown",
   "metadata": {},
   "source": [
    "However, from `show_boundary` we see that the boundary of our projection only corresponds to a single 1-cycle. We can see from the \"tear\" points in the pointcloud, which form a bouquet of two circles, that the points making up the other 1-cycle in the torus are projected to opposing sides in the projection, inside the boundary. This results in `show_connections=True` only showing a single pair of glued edges. \n",
    "\n",
    "The reason for this lies with the fact that the \"naive\" projection algorithm preserves the distance of the shortest path, in the 1-skeleton, between the base point and a generic point in the projection of the points on this path. Due to the different positions of the 1-cycles, only one is assigned to the boundary.\n",
    "\n",
    "Future work is required to modify this projection algorithm to place the majority of \"tear\" points to the boundary to give the correct boundary to assign quotient identifications."
   ]
  },
  {
   "cell_type": "markdown",
   "metadata": {},
   "source": [
    "##### Incorrect Edge Refinements"
   ]
  },
  {
   "cell_type": "code",
   "execution_count": 4,
   "metadata": {},
   "outputs": [],
   "source": [
    "quotient_info = S_torus.plot_quotient(c=torus[:, 0], alpha=1, tol=2, quotient_tol=10, tol1=5, connection_tol=5, alpha0=0.8, show_pointcloud=True, **params)"
   ]
  },
  {
   "cell_type": "code",
   "execution_count": 5,
   "metadata": {},
   "outputs": [],
   "source": [
    "edge_info = qrml.find_short_and_refined(S_torus, alpha=1, tol=2, quotient_tol=15, tol1=5)\n",
    "qrml.plot_edges(S_torus, c=torus[:, 0], edge_info=edge_info, alpha0=0.8)"
   ]
  },
  {
   "cell_type": "markdown",
   "metadata": {},
   "source": [
    "#### References\n",
    "\n",
    "<a id=\"1\">[1]</a> \n",
    "TODO\n",
    "\n",
    "<a id=\"2\">[2]</a> \n",
    "Tong, L., Zha, H. Riemannian manifold learning. *IEEE Transactions on Pattern Analysis\n",
    "and Machine Intelligence* 30.5 (2008): 796-809.\n",
    "\n",
    "<a id=\"3\">[3]</a>\n",
    "Charó, G.D., Artana, G. and Sciamarella, D., 2020. Topology of dynamical reconstructions from Lagrangian data. *Physica D: Nonlinear Phenomena, 405*, p.132371.\n"
   ]
  }
 ],
 "metadata": {
  "kernelspec": {
   "display_name": "Python 3.7.10 ('menv')",
   "language": "python",
   "name": "python3"
  },
  "language_info": {
   "codemirror_mode": {
    "name": "ipython",
    "version": 3
   },
   "file_extension": ".py",
   "mimetype": "text/x-python",
   "name": "python",
   "nbconvert_exporter": "python",
   "pygments_lexer": "ipython3",
   "version": "3.7.10"
  },
  "orig_nbformat": 4,
  "vscode": {
   "interpreter": {
    "hash": "2cae5d9ea5b1f5f999363081eff2a06d9f3791fb5cffaa4ef644e25687334e5e"
   }
  }
 },
 "nbformat": 4,
 "nbformat_minor": 2
}
